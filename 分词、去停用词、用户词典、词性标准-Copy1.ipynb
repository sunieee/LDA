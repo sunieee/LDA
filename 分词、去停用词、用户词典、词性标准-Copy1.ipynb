{
 "cells": [
  {
   "cell_type": "code",
   "execution_count": 1,
   "metadata": {},
   "outputs": [
    {
     "name": "stderr",
     "output_type": "stream",
     "text": [
      "Building prefix dict from the default dictionary ...\n",
      "Loading model from cache C:\\Users\\niuyao\\AppData\\Local\\Temp\\jieba.cache\n",
      "Loading model cost 0.740 seconds.\n",
      "Prefix dict has been built successfully.\n"
     ]
    }
   ],
   "source": [
    "import jieba\n",
    "import jieba.posseg as pseg\n",
    "from collections import Counter\n",
    "import re\n",
    "jieba.load_userdict(\"E:/最近常用/九十自述 word版/新词/用户词典.txt\") \n",
    "input_path='E:/最近常用/九十自述 word版/全文.txt'\n",
    "output_path='E:/最近常用/九十自述 word版/全文分词.txt'\n",
    "stopwords_path='D:/NLPIR-Parser/test/his_stopwords.txt'"
   ]
  },
  {
   "cell_type": "code",
   "execution_count": 2,
   "metadata": {},
   "outputs": [
    {
     "name": "stdout",
     "output_type": "stream",
     "text": [
      "start read stopwords data.\n"
     ]
    }
   ],
   "source": [
    "# 设置停用词\n",
    "print('start read stopwords data.')\n",
    "stopwords = []\n",
    "with open(stopwords_path, 'r', encoding='utf-8') as f:\n",
    "    for line in f:\n",
    "        if len(line)>0:\n",
    "            stopwords.append(line.strip())\n",
    "            "
   ]
  },
  {
   "cell_type": "code",
   "execution_count": 3,
   "metadata": {},
   "outputs": [],
   "source": [
    "def tokenizer(s):\n",
    "    words = []\n",
    "    cut = pseg.cut(s)\n",
    "    for word in cut:\n",
    "        if word.word not in stopwords:\n",
    "#            if word.flag=='nr':\n",
    "            words.append(word.word)\n",
    "#            words.append(word.flag)\n",
    "    return words\n"
   ]
  },
  {
   "cell_type": "code",
   "execution_count": 4,
   "metadata": {},
   "outputs": [],
   "source": [
    "with open(output_path,'w',encoding='utf-8') as o:\n",
    "    with open(input_path, 'r', encoding='utf-8') as f:\n",
    "        for line in f:\n",
    "#            print(line.strip())  \n",
    "            s=tokenizer(line.strip())\n",
    "#            print(str(s))\n",
    "\n",
    "            o.write(\" \".join(s)+\"\\n\")"
   ]
  },
  {
   "cell_type": "code",
   "execution_count": null,
   "metadata": {
    "collapsed": true
   },
   "outputs": [],
   "source": []
  }
 ],
 "metadata": {
  "anaconda-cloud": {},
  "kernelspec": {
   "display_name": "Python 3 (ipykernel)",
   "language": "python",
   "name": "python3"
  },
  "language_info": {
   "codemirror_mode": {
    "name": "ipython",
    "version": 3
   },
   "file_extension": ".py",
   "mimetype": "text/x-python",
   "name": "python",
   "nbconvert_exporter": "python",
   "pygments_lexer": "ipython3",
   "version": "3.10.9"
  }
 },
 "nbformat": 4,
 "nbformat_minor": 1
}
